{
 "cells": [
  {
   "cell_type": "code",
   "execution_count": 7,
   "metadata": {},
   "outputs": [],
   "source": [
    "from matplotlib.pyplot import imshow\n",
    "\n",
    "import numpy as np\n",
    "\n",
    "import os\n",
    "\n",
    "from PIL import Image\n",
    "\n",
    "from keras.models import load_model\n",
    "\n",
    "import keract\n",
    "\n",
    "from sklearn.decomposition import PCA"
   ]
  },
  {
   "cell_type": "markdown",
   "metadata": {},
   "source": [
    "# Set Parameters"
   ]
  },
  {
   "cell_type": "code",
   "execution_count": 4,
   "metadata": {},
   "outputs": [],
   "source": [
    "# Folder containing dataset\n",
    "data_path = r\"D:\\Downloads\\cats-faces-64x64-for-generative-models\\cats\"\n",
    "\n",
    "# File path to trained model from PCA GAN Training script\n",
    "model_path = \"model.h5\"\n",
    "\n",
    "# Boolean flag, set to True if the data has pngs to remove alpha layer from images\n",
    "png = False"
   ]
  },
  {
   "cell_type": "markdown",
   "metadata": {},
   "source": [
    "# Load Model"
   ]
  },
  {
   "cell_type": "code",
   "execution_count": 5,
   "metadata": {},
   "outputs": [
    {
     "name": "stdout",
     "output_type": "stream",
     "text": [
      "Model: \"sequential_2\"\n",
      "_________________________________________________________________\n",
      "Layer (type)                 Output Shape              Param #   \n",
      "=================================================================\n",
      "dense_2 (Dense)              (None, 512)               262656    \n",
      "_________________________________________________________________\n",
      "reshape_1 (Reshape)          (None, 8, 8, 8)           0         \n",
      "_________________________________________________________________\n",
      "conv2d_7 (Conv2D)            (None, 8, 8, 64)          12864     \n",
      "_________________________________________________________________\n",
      "leaky_re_lu_1 (LeakyReLU)    (None, 8, 8, 64)          0         \n",
      "_________________________________________________________________\n",
      "up_sampling2d_1 (UpSampling2 (None, 16, 16, 64)        0         \n",
      "_________________________________________________________________\n",
      "conv2d_8 (Conv2D)            (None, 16, 16, 64)        102464    \n",
      "_________________________________________________________________\n",
      "leaky_re_lu_2 (LeakyReLU)    (None, 16, 16, 64)        0         \n",
      "_________________________________________________________________\n",
      "up_sampling2d_2 (UpSampling2 (None, 32, 32, 64)        0         \n",
      "_________________________________________________________________\n",
      "conv2d_9 (Conv2D)            (None, 32, 32, 64)        102464    \n",
      "_________________________________________________________________\n",
      "leaky_re_lu_3 (LeakyReLU)    (None, 32, 32, 64)        0         \n",
      "_________________________________________________________________\n",
      "up_sampling2d_3 (UpSampling2 (None, 64, 64, 64)        0         \n",
      "_________________________________________________________________\n",
      "conv2d_10 (Conv2D)           (None, 64, 64, 64)        102464    \n",
      "_________________________________________________________________\n",
      "leaky_re_lu_4 (LeakyReLU)    (None, 64, 64, 64)        0         \n",
      "_________________________________________________________________\n",
      "conv2d_11 (Conv2D)           (None, 64, 64, 3)         4803      \n",
      "_________________________________________________________________\n",
      "leaky_re_lu_5 (LeakyReLU)    (None, 64, 64, 3)         0         \n",
      "=================================================================\n",
      "Total params: 587,715\n",
      "Trainable params: 587,715\n",
      "Non-trainable params: 0\n",
      "_________________________________________________________________\n"
     ]
    },
    {
     "name": "stderr",
     "output_type": "stream",
     "text": [
      "C:\\Users\\Vee\\Anaconda3\\lib\\site-packages\\keras\\engine\\saving.py:341: UserWarning: No training configuration found in save file: the model was *not* compiled. Compile it manually.\n",
      "  warnings.warn('No training configuration found in save file: '\n"
     ]
    }
   ],
   "source": [
    "# Load model from specified file path\n",
    "model = load_model(model_path)\n",
    "# Remove extra layer from model\n",
    "new = model.get_layer(index=1)\n",
    "new.summary()"
   ]
  },
  {
   "cell_type": "markdown",
   "metadata": {},
   "source": [
    "# Preprocess Data"
   ]
  },
  {
   "cell_type": "code",
   "execution_count": 8,
   "metadata": {},
   "outputs": [],
   "source": [
    "# Initializing arrays for data and image file paths\n",
    "data = []\n",
    "paths = []\n",
    "\n",
    "# Get the file paths of all jpg files in this folder\n",
    "for r, d, f in os.walk(data_path):\n",
    "    for file in f:\n",
    "        if '.jpg' in file:\n",
    "            paths.append(os.path.join(r, file))\n",
    "\n",
    "# For each file add it to the data array\n",
    "for path in paths:\n",
    "    img = np.array(Image.open(path))\n",
    "\n",
    "    # Remove alpha layer if imgaes are PNG\n",
    "    if(png):\n",
    "        img = img[...,:3]\n",
    "\n",
    "    data.append(img)\n",
    "\n",
    "#Reshaping data to be two dimensional for Principal Component Analysis\n",
    "img_vector = np.array(data).reshape(len(data), 12288)/255\n",
    "\n",
    "#Keep the first 512 eigenvectors of the covariance matrix of the img_vector\n",
    "pca = PCA(n_components=512).fit(img_vector)\n",
    "pca_data = pca.transform(img_vector)\n",
    "\n",
    "# Reshape X_train to two dimensions\n",
    "x_train = pca_data.reshape(len(pca_data), 512)"
   ]
  },
  {
   "cell_type": "markdown",
   "metadata": {},
   "source": [
    "# Get Random Element Of X_Train Dataset"
   ]
  },
  {
   "cell_type": "code",
   "execution_count": 53,
   "metadata": {},
   "outputs": [
    {
     "data": {
      "text/plain": [
       "<matplotlib.image.AxesImage at 0x28e7fcf4ac8>"
      ]
     },
     "execution_count": 53,
     "metadata": {},
     "output_type": "execute_result"
    },
    {
     "data": {
      "image/png": "[encoded data removed]",
      "text/plain": [
       "<Figure size 432x288 with 1 Axes>"
      ]
     },
     "metadata": {
      "needs_background": "light"
     },
     "output_type": "display_data"
    }
   ],
   "source": [
    "x = x_train[(int)(np.random.rand()*len(x_train))].reshape(1,512)\n",
    "imshow(x.reshape(32,16))"
   ]
  },
  {
   "cell_type": "markdown",
   "metadata": {},
   "source": [
    "# Generate Prediction From Random Element Of X_Train Dataset"
   ]
  },
  {
   "cell_type": "code",
   "execution_count": 54,
   "metadata": {
    "scrolled": true
   },
   "outputs": [
    {
     "data": {
      "text/plain": [
       "<matplotlib.image.AxesImage at 0x28e7fd4f5c8>"
      ]
     },
     "execution_count": 54,
     "metadata": {},
     "output_type": "execute_result"
    },
    {
     "data": {
      "image/png": "[encoded data removed]",
      "text/plain": [
       "<Figure size 432x288 with 1 Axes>"
      ]
     },
     "metadata": {
      "needs_background": "light"
     },
     "output_type": "display_data"
    }
   ],
   "source": [
    "result = np.array(model.predict(x))\n",
    "result = result.reshape(1,64,64,3)\n",
    "result = result*255\n",
    "result = result.astype(int)\n",
    "imshow(result[0])"
   ]
  },
  {
   "cell_type": "markdown",
   "metadata": {},
   "source": [
    "# Get Convolutional Filters"
   ]
  },
  {
   "cell_type": "code",
   "execution_count": 55,
   "metadata": {},
   "outputs": [],
   "source": [
    "# Get activations of each layer on the model\n",
    "activations = keract.get_activations(new, x, auto_compile=True)"
   ]
  },
  {
   "cell_type": "markdown",
   "metadata": {},
   "source": [
    "# Visualize Convolutional Filters"
   ]
  },
  {
   "cell_type": "code",
   "execution_count": 56,
   "metadata": {},
   "outputs": [
    {
     "name": "stdout",
     "output_type": "stream",
     "text": [
      "dense_2 (1, 512) \n",
      "reshape_1 (1, 8, 8, 8) \n",
      "conv2d_7 (1, 8, 8, 64) \n",
      "leaky_re_lu_1 (1, 8, 8, 64) \n",
      "up_sampling2d_1 (1, 16, 16, 64) \n",
      "conv2d_8 (1, 16, 16, 64) \n",
      "leaky_re_lu_2 (1, 16, 16, 64) \n",
      "up_sampling2d_2 (1, 32, 32, 64) \n",
      "conv2d_9 (1, 32, 32, 64) \n",
      "leaky_re_lu_3 (1, 32, 32, 64) \n",
      "up_sampling2d_3 (1, 64, 64, 64) \n",
      "conv2d_10 (1, 64, 64, 64) \n",
      "leaky_re_lu_4 (1, 64, 64, 64) \n",
      "conv2d_11 (1, 64, 64, 3) \n",
      "leaky_re_lu_5 (1, 64, 64, 3) \n"
     ]
    }
   ],
   "source": [
    "# Plot and save visualizations of inference through each filter\n",
    "keract.display_activations(activations, save=True)"
   ]
  }
 ],
 "metadata": {
  "kernelspec": {
   "display_name": "Python 3",
   "language": "python",
   "name": "python3"
  },
  "language_info": {
   "codemirror_mode": {
    "name": "ipython",
    "version": 3
   },
   "file_extension": ".py",
   "mimetype": "text/x-python",
   "name": "python",
   "nbconvert_exporter": "python",
   "pygments_lexer": "ipython3",
   "version": "3.7.4"
  }
 },
 "nbformat": 4,
 "nbformat_minor": 2
}
